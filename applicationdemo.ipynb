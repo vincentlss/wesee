{
 "cells": [
  {
   "cell_type": "code",
   "execution_count": 85,
   "metadata": {},
   "outputs": [],
   "source": [
    "#for other code optimisation purposes\n",
    "import math\n",
    "import datetime\n",
    "from keras.models import load_model\n",
    "import numpy as np\n",
    "from sklearn.externals import joblib\n",
    "import time"
   ]
  },
  {
   "cell_type": "code",
   "execution_count": 86,
   "metadata": {},
   "outputs": [],
   "source": [
    "model = load_model('my_model.h5')\n",
    "scaler = joblib.load('scaler.save') "
   ]
  },
  {
   "cell_type": "code",
   "execution_count": 87,
   "metadata": {},
   "outputs": [],
   "source": [
    "\n",
    "sample = [\n",
    "     [ 0.87798231,  0.04339935,  0.0495349,   0.11814693,  0.10191641,  0.07619723,\n",
    "  0.32604109,  0.18202581,  0.28907796,  0.3045506,   0.0266527,   0.01805766,\n",
    "  0.   ,       0.   ,       0.00657895,0] ,\n",
    "[ 0.71256317 , 0.20064883 , 0.2170261  , 0.35835373 , 0.19940826  ,0.14076912,\n",
    "  0.42928352  ,0.12486316 , 0.50861706  ,0.47450186 , 0.21695402 , 0.16050152,\n",
    "  0.          ,0.          ,0.10789474,0] ,\n",
    "[ 0.72760992  ,0.32171329 , 0.3218695 ,  0.19385389 , 0.31164614,  0.20471722,\n",
    "  0.47467533  ,0.16132511 , 0.73533702 , 0.39802674  ,0.28371181 , 0.15564247,\n",
    "  0.     ,     0.     ,     0.20921053,0] ,\n",
    "[ 0.66234969  ,0.30791199  ,0.34467447  ,0.48575494  ,0.45506691  ,0.20501846,\n",
    "  0.50081934 , 0.27221154 , 0.51503829  ,0.13304898  ,0.41734507  ,0.2638258  , 0.,\n",
    "  0.      ,    0.31052632,0] ,\n",
    "[ 0.41743451  ,0.47940405 , 0.50896124 , 0.48097223  ,0.46132617 , 0.19552045,\n",
    "  0.39573009,  0.48369221 , 0.49229576  ,0.50628346  ,0.66443901 , 0.24006564,\n",
    "  0.         , 0.         , 0.41184211,0] ,\n",
    "[ 0.38876543 , 0.29348556 , 0.55087947 , 0.90926065 , 0.49189328 , 0.31207656,\n",
    "  0.41199421 , 0.23926996 , 0.50772439 , 0.70506152 , 0.66574071 , 0.18367529,\n",
    "  0.         , 0.         , 0.51315789,0] ,\n",
    "[ 0.65027326 , 0.37636842 , 0.51001265  ,0.44540316 , 0.63323104 , 0.34954974,\n",
    "  0.65448355 , 0.18418339 , 0.39766148  ,0.60398069 , 0.74220713 , 0.19942649,\n",
    "  0.         , 0.         , 0.61447368,0] ,\n",
    "[ 0.35749512 , 0.40968941 , 0.60304569  ,0.69168337 , 0.30328965 , 0.38868114,\n",
    "  0.47481204 , 0.35662955 , 0.58553241  ,0.8711312  , 0.72321857 , 0.23581321,\n",
    "  0.         , 0.         , 0.71578947,0] ,\n",
    "[ 0.18643481 , 0.84433133 , 0.40719541  ,0.42397397 , 0.52936018 , 0.30738931,\n",
    "  0.55588698  ,0.16821181 , 0.48898851  ,0.04108952 , 0.79692203 , 0.47411209,\n",
    "  0.          ,0.         , 0.81710526,0] ,\n",
    "[ 0.23245056 , 0.83956058 , 0.53883921  ,0.86443161 , 0.62544797 , 0.73489713,\n",
    "  0.56319668 , 0.16475157 , 0.50564267  ,0.71513937 , 0.92189894 , 0.50739885,\n",
    "  0.         , 0.         , 0.91842105,0]\n",
    "]"
   ]
  },
  {
   "cell_type": "code",
   "execution_count": 88,
   "metadata": {},
   "outputs": [
    {
     "name": "stdout",
     "output_type": "stream",
     "text": [
      "Application has started! Loading...\n",
      "Ready to receive inputs\n"
     ]
    }
   ],
   "source": [
    "print('Application has started! Loading...')\n",
    "print('Ready to receive inputs')"
   ]
  },
  {
   "cell_type": "code",
   "execution_count": 89,
   "metadata": {
    "collapsed": true
   },
   "outputs": [],
   "source": [
    "columns = ['blink_avg','blink_var','acc_avg', 'acc_var', 'stable_avg', 'stable_var', 'humid_avg', 'humid_var', 'temp_avg', 'temp_var', 'yawn_avg', 'yawn_var', 'disorder_avg', 'disorder_var', 'sec_avg', 'sec_var']"
   ]
  },
  {
   "cell_type": "code",
   "execution_count": 90,
   "metadata": {},
   "outputs": [
    {
     "name": "stdout",
     "output_type": "stream",
     "text": [
      "input:\n",
      "blink_avg:18.94|blink_var:3.07|acc_avg:2.66|acc_var:3.01|stable_avg:1.84|stable_var:1.07|humid_avg:78.73|humid_var:0.71|temp_avg:17.88|temp_var:0.16|yawn_avg:0.13|yawn_var:0.03|disorder_avg:1.0|disorder_var:0.0|sec_avg:19.5|sec_var:33.25|\n",
      "output:1(SAFE)\n",
      "input:\n",
      "blink_avg:17.62|blink_var:5.93|acc_avg:3.38|acc_var:5.68|stable_avg:2.28|stable_var:1.65|humid_avg:78.87|humid_var:0.6|temp_avg:18.0|temp_var:0.22|yawn_avg:0.56|yawn_var:0.19|disorder_avg:1.0|disorder_var:0.0|sec_avg:173.5|sec_var:33.25|\n",
      "output:1(SAFE)\n",
      "input:\n",
      "blink_avg:17.74|blink_var:8.14|acc_avg:3.83|acc_var:3.85|stable_avg:2.78|stable_var:2.23|humid_avg:78.93|humid_var:0.67|temp_avg:18.12|temp_var:0.19|yawn_avg:0.72|yawn_var:0.19|disorder_avg:1.0|disorder_var:0.0|sec_avg:327.5|sec_var:33.25|\n",
      "output:1(SAFE)\n"
     ]
    },
    {
     "ename": "KeyboardInterrupt",
     "evalue": "",
     "output_type": "error",
     "traceback": [
      "\u001b[0;31m---------------------------------------------------------------------------\u001b[0m",
      "\u001b[0;31mKeyboardInterrupt\u001b[0m                         Traceback (most recent call last)",
      "\u001b[0;32m<ipython-input-90-291751d0e166>\u001b[0m in \u001b[0;36m<module>\u001b[0;34m()\u001b[0m\n\u001b[1;32m      1\u001b[0m \u001b[0;32mfor\u001b[0m \u001b[0mrow\u001b[0m \u001b[0;32min\u001b[0m \u001b[0msample\u001b[0m\u001b[0;34m:\u001b[0m\u001b[0;34m\u001b[0m\u001b[0m\n\u001b[0;32m----> 2\u001b[0;31m     \u001b[0mtime\u001b[0m\u001b[0;34m.\u001b[0m\u001b[0msleep\u001b[0m\u001b[0;34m(\u001b[0m\u001b[0;36m1\u001b[0m\u001b[0;34m)\u001b[0m\u001b[0;34m\u001b[0m\u001b[0m\n\u001b[0m\u001b[1;32m      3\u001b[0m     \u001b[0mcurr_x\u001b[0m \u001b[0;34m=\u001b[0m \u001b[0mnp\u001b[0m\u001b[0;34m.\u001b[0m\u001b[0marray\u001b[0m\u001b[0;34m(\u001b[0m\u001b[0mrow\u001b[0m\u001b[0;34m)\u001b[0m\u001b[0;34m.\u001b[0m\u001b[0mreshape\u001b[0m\u001b[0;34m(\u001b[0m\u001b[0;34m(\u001b[0m\u001b[0;36m1\u001b[0m\u001b[0;34m,\u001b[0m\u001b[0;36m1\u001b[0m\u001b[0;34m,\u001b[0m\u001b[0;36m16\u001b[0m\u001b[0;34m)\u001b[0m\u001b[0;34m)\u001b[0m\u001b[0;34m\u001b[0m\u001b[0m\n\u001b[1;32m      4\u001b[0m     \u001b[0moutput\u001b[0m \u001b[0;34m=\u001b[0m \u001b[0mmodel\u001b[0m\u001b[0;34m.\u001b[0m\u001b[0mpredict\u001b[0m\u001b[0;34m(\u001b[0m\u001b[0mcurr_x\u001b[0m\u001b[0;34m)\u001b[0m\u001b[0;34m\u001b[0m\u001b[0m\n\u001b[1;32m      5\u001b[0m     \u001b[0mpre\u001b[0m \u001b[0;34m=\u001b[0m \u001b[0mnp\u001b[0m\u001b[0;34m.\u001b[0m\u001b[0marray\u001b[0m\u001b[0;34m(\u001b[0m\u001b[0mlist\u001b[0m\u001b[0;34m(\u001b[0m\u001b[0mcurr_x\u001b[0m\u001b[0;34m[\u001b[0m\u001b[0;36m0\u001b[0m\u001b[0;34m]\u001b[0m\u001b[0;34m[\u001b[0m\u001b[0;36m0\u001b[0m\u001b[0;34m]\u001b[0m\u001b[0;34m)\u001b[0m\u001b[0;34m+\u001b[0m \u001b[0;34m(\u001b[0m\u001b[0mlist\u001b[0m\u001b[0;34m(\u001b[0m\u001b[0moutput\u001b[0m\u001b[0;34m[\u001b[0m\u001b[0;36m0\u001b[0m\u001b[0;34m]\u001b[0m\u001b[0;34m)\u001b[0m\u001b[0;34m)\u001b[0m\u001b[0;34m)\u001b[0m\u001b[0;34m.\u001b[0m\u001b[0mreshape\u001b[0m\u001b[0;34m(\u001b[0m\u001b[0;36m1\u001b[0m\u001b[0;34m,\u001b[0m\u001b[0;36m17\u001b[0m\u001b[0;34m)\u001b[0m\u001b[0;34m\u001b[0m\u001b[0m\n",
      "\u001b[0;31mKeyboardInterrupt\u001b[0m: "
     ]
    }
   ],
   "source": [
    "for row in sample:\n",
    "    time.sleep(1)\n",
    "    curr_x = np.array(row).reshape((1,1,16))\n",
    "    output = model.predict(curr_x)\n",
    "    pre = np.array(list(curr_x[0][0])+ (list(output[0]))).reshape(1,17)\n",
    "    curr_y = scaler.inverse_transform(pre)\n",
    "    print('input:')\n",
    "    string = ''\n",
    "    for no in range(16):\n",
    "        string += columns[no] + ':'\n",
    "        string += str(round(curr_y[0][no],2)) + '|'\n",
    "    print(string)\n",
    "    level = 0\n",
    "    warning = ''\n",
    "    if curr_y[0][-1] <5:\n",
    "        level = 1\n",
    "        warning = 'SAFE'\n",
    "    elif curr_y[0][-1] <8 :\n",
    "        level = 2\n",
    "        warning = 'OKAY'\n",
    "    else:\n",
    "        level = 3\n",
    "        warning = 'WARNING! TAKE A BREAK!!!'\n",
    "    print('output:' + str(level) + '(' + warning + ')')"
   ]
  },
  {
   "cell_type": "code",
   "execution_count": 98,
   "metadata": {},
   "outputs": [
    {
     "name": "stdout",
     "output_type": "stream",
     "text": [
      "\u001b[1;30;40m Dark Gray      \u001b[0m 1;30;40m            \u001b[0;30;47m Black      \u001b[0m 0;30;47m               \u001b[0;37;41m Black      \u001b[0m 0;37;41m\n",
      "\u001b[1;31;40m Bright Red     \u001b[0m 1;31;40m            \u001b[0;31;47m Red        \u001b[0m 0;31;47m               \u001b[0;37;42m Black      \u001b[0m 0;37;42m\n",
      "\u001b[1;32;40m Bright Green   \u001b[0m 1;32;40m            \u001b[0;32;47m Green      \u001b[0m 0;32;47m               \u001b[0;37;43m Black      \u001b[0m 0;37;43m\n",
      "\u001b[1;33;40m Yellow         \u001b[0m 1;33;40m            \u001b[0;33;47m Brown      \u001b[0m 0;33;47m               \u001b[0;37;44m Black      \u001b[0m 0;37;44m\n",
      "\u001b[1;34;40m Bright Blue    \u001b[0m 1;34;40m            \u001b[0;34;47m Blue       \u001b[0m 0;34;47m               \u001b[0;37;45m Black      \u001b[0m 0;37;45m\n",
      "\u001b[1;35;40m Bright Magenta \u001b[0m 1;35;40m            \u001b[0;35;47m Magenta    \u001b[0m 0;35;47m               \u001b[0;37;46m Black      \u001b[0m 0;37;46m\n",
      "\u001b[1;36;40m Bright Cyan    \u001b[0m 1;36;40m            \u001b[0;36;47m Cyan       \u001b[0m 0;36;47m               \u001b[0;37;47m Black      \u001b[0m 0;37;47m\n",
      "\u001b[1;37;40m White          \u001b[0m 1;37;40m            \u001b[0;37;40m Light Grey \u001b[0m 0;37;40m               \u001b[0;37;48m Black      \u001b[0m 0;37;48m\n",
      "\u001b[1;31;40m Bright Red     \u001b\n"
     ]
    }
   ],
   "source": [
    "print(\"\\033[1;30;40m Dark Gray      \\033[0m 1;30;40m            \\033[0;30;47m Black      \\033[0m 0;30;47m               \\033[0;37;41m Black      \\033[0m 0;37;41m\")\n",
    "print(\"\\033[1;31;40m Bright Red     \\033[0m 1;31;40m            \\033[0;31;47m Red        \\033[0m 0;31;47m               \\033[0;37;42m Black      \\033[0m 0;37;42m\")\n",
    "print(\"\\033[1;32;40m Bright Green   \\033[0m 1;32;40m            \\033[0;32;47m Green      \\033[0m 0;32;47m               \\033[0;37;43m Black      \\033[0m 0;37;43m\")\n",
    "print(\"\\033[1;33;40m Yellow         \\033[0m 1;33;40m            \\033[0;33;47m Brown      \\033[0m 0;33;47m               \\033[0;37;44m Black      \\033[0m 0;37;44m\")\n",
    "print(\"\\033[1;34;40m Bright Blue    \\033[0m 1;34;40m            \\033[0;34;47m Blue       \\033[0m 0;34;47m               \\033[0;37;45m Black      \\033[0m 0;37;45m\")\n",
    "print(\"\\033[1;35;40m Bright Magenta \\033[0m 1;35;40m            \\033[0;35;47m Magenta    \\033[0m 0;35;47m               \\033[0;37;46m Black      \\033[0m 0;37;46m\")\n",
    "print(\"\\033[1;36;40m Bright Cyan    \\033[0m 1;36;40m            \\033[0;36;47m Cyan       \\033[0m 0;36;47m               \\033[0;37;47m Black      \\033[0m 0;37;47m\")\n",
    "print(\"\\033[1;37;40m White          \\033[0m 1;37;40m            \\033[0;37;40m Light Grey \\033[0m 0;37;40m               \\033[0;37;48m Black      \\033[0m 0;37;48m\")\n",
    "\n",
    "print(\"\\033[1;31;40m Bright Red     \\033\")"
   ]
  },
  {
   "cell_type": "code",
   "execution_count": null,
   "metadata": {
    "collapsed": true
   },
   "outputs": [],
   "source": []
  }
 ],
 "metadata": {
  "kernelspec": {
   "display_name": "Python 3",
   "language": "python",
   "name": "python3"
  },
  "language_info": {
   "codemirror_mode": {
    "name": "ipython",
    "version": 3
   },
   "file_extension": ".py",
   "mimetype": "text/x-python",
   "name": "python",
   "nbconvert_exporter": "python",
   "pygments_lexer": "ipython3",
   "version": "3.6.3"
  }
 },
 "nbformat": 4,
 "nbformat_minor": 2
}
